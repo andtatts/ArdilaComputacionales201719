{
 "cells": [
  {
   "cell_type": "code",
   "execution_count": 1,
   "metadata": {
    "collapsed": true
   },
   "outputs": [],
   "source": [
    "import numpy as np"
   ]
  },
  {
   "cell_type": "code",
   "execution_count": 10,
   "metadata": {},
   "outputs": [
    {
     "name": "stdout",
     "output_type": "stream",
     "text": [
      "[  1.02000000e+01   1.22200000e+02   2.00000000e-01   3.00000000e-02]\n",
      "[  1.02000000e+01   1.22200000e+02   2.00000000e-01   3.00000000e-02]\n"
     ]
    }
   ],
   "source": [
    "#first exercise(7)\n",
    "array=np.array([-10.2,122.2,0.2,-0.03])\n",
    "array=abs(array)\n",
    "#result should be the same if using abs or the numpy function\n",
    "array2=np.copy(array)\n",
    "array2=np.absolute(array2)\n",
    "print array\n",
    "print array2"
   ]
  },
  {
   "cell_type": "code",
   "execution_count": 16,
   "metadata": {},
   "outputs": [
    {
     "name": "stdout",
     "output_type": "stream",
     "text": [
      "[[ 1.06664562  0.08356132]\n",
      " [ 1.30677177  0.17496452]\n",
      " [ 0.88942913  0.42275803]\n",
      " [ 0.90534318  0.37596251]\n",
      " [ 0.79804211  0.06992065]]\n"
     ]
    }
   ],
   "source": [
    "#second exercise(11)\n",
    "#define the arrays\n",
    "matrix=np.array([[ 0.44349753, 0.81043761, 0.00771825],\n",
    "[ 0.64004088, 0.86774612, 0.19944667],\n",
    "[ 0.61520091, 0.24796788, 0.93798297],\n",
    "[ 0.22156999, 0.61318856, 0.82348994],\n",
    "[ 0.91324026, 0.13411297, 0.00622696]])\n",
    "matrix2=np.array([[ 0.73873542, 0.06448186],\n",
    "[ 0.90974982, 0.06409165],\n",
    "[ 0.22321268, 0.39147412]])\n",
    "def multiplicacion(a,b):\n",
    "    c=a.dot(b)\n",
    "    print c\n",
    "multiplicacion(matrix,matrix2)"
   ]
  },
  {
   "cell_type": "code",
   "execution_count": 20,
   "metadata": {},
   "outputs": [
    {
     "name": "stdout",
     "output_type": "stream",
     "text": [
      "[ 15.  45.]\n",
      "[ 20.  40.]\n"
     ]
    }
   ],
   "source": [
    "#exercise 3(19 of math )\n",
    "#calculate the mean of a matrix in rows\n",
    "matrix=np.array([[10, 30],\n",
    "[20, 60]])\n",
    "meanrow=np.mean(matrix,axis=0)\n",
    "print meanrow\n",
    "#calculate the mean of a matrix in columns\n",
    "meancol=np.mean(matrix,axis=1)\n",
    "print meancol"
   ]
  },
  {
   "cell_type": "code",
   "execution_count": 24,
   "metadata": {},
   "outputs": [
    {
     "name": "stdout",
     "output_type": "stream",
     "text": [
      "0.48858673683 0.284134137823 0.0807322082763\n"
     ]
    }
   ],
   "source": [
    "#exercise 4(20 of math)\n",
    "#generate a random numbers array\n",
    "alea=np.random.rand(1000)\n",
    "avg=np.mean(alea)\n",
    "std=np.std(alea)\n",
    "var=np.var(alea)\n",
    "print avg, std, var"
   ]
  },
  {
   "cell_type": "code",
   "execution_count": null,
   "metadata": {
    "collapsed": true
   },
   "outputs": [],
   "source": []
  }
 ],
 "metadata": {
  "kernelspec": {
   "display_name": "Python [Root]",
   "language": "python",
   "name": "Python [Root]"
  },
  "language_info": {
   "codemirror_mode": {
    "name": "ipython",
    "version": 2
   },
   "file_extension": ".py",
   "mimetype": "text/x-python",
   "name": "python",
   "nbconvert_exporter": "python",
   "pygments_lexer": "ipython2",
   "version": "2.7.13"
  }
 },
 "nbformat": 4,
 "nbformat_minor": 2
}
