{
 "cells": [
  {
   "cell_type": "code",
   "execution_count": 1,
   "metadata": {
    "collapsed": true
   },
   "outputs": [],
   "source": [
    "import numpy as np"
   ]
  },
  {
   "cell_type": "code",
   "execution_count": 4,
   "metadata": {},
   "outputs": [
    {
     "name": "stdout",
     "output_type": "stream",
     "text": [
      "[[ 0.86207941  0.98172336  1.        ]\n",
      " [ 0.08190378  0.34292711  0.63964803]\n",
      " [ 0.          0.71090613  0.08041326]]\n"
     ]
    }
   ],
   "source": [
    "#exercise 7\n",
    "mat=np.array([[ 0.87311805, 0.96651849,0.98078621],\n",
    "[ 0.26407141,0.46784012, 0.69947627],\n",
    "[ 0.20013296, 0.75510414, 0.26290783]])\n",
    "matmax=np.max(mat)\n",
    "matmin=np.min(mat)\n",
    "#this is how a matrix is normalized\n",
    "matnorm=(mat-matmin)/(matmax-matmin)\n",
    "print matnorm"
   ]
  },
  {
   "cell_type": "code",
   "execution_count": 7,
   "metadata": {},
   "outputs": [
    {
     "name": "stdout",
     "output_type": "stream",
     "text": [
      "[ 0.05109713 -1.          0.71189436  0.6915784   0.83162251  0.30024305\n",
      "  0.3945101   0.27876117  0.08019385  0.94403197  0.26492303  0.96460496\n",
      "  0.45845591  0.53117471  0.86043335]\n"
     ]
    }
   ],
   "source": [
    "#exercise 11\n",
    "#generates the 15 element vector\n",
    "vec=np.random.rand(15)\n",
    "#subsets and changes the maximum argument \n",
    "vec[vec.argmax()]=-1\n",
    "print vec"
   ]
  },
  {
   "cell_type": "code",
   "execution_count": 13,
   "metadata": {},
   "outputs": [
    {
     "name": "stdout",
     "output_type": "stream",
     "text": [
      "5\n"
     ]
    }
   ],
   "source": [
    "#exercise 13\n",
    "#creates the array\n",
    "array=np.array([6, 9, 5, 1, 7, 5, 1, 0, 1, 5, 5, 0, 8, 9, 0, 7, 0, 7, 6, 5, 1, 1, 9, 5, 3, 8, 7, 9, 6, 3, 4, 5, 9, 7, 2, 7, 0,\n",
    "2, 2, 6] )\n",
    "#counts the most frequent value and prints it\n",
    "count=np.bincount(array).argmax()\n",
    "print count"
   ]
  },
  {
   "cell_type": "code",
   "execution_count": null,
   "metadata": {
    "collapsed": true
   },
   "outputs": [],
   "source": []
  }
 ],
 "metadata": {
  "kernelspec": {
   "display_name": "Python [Root]",
   "language": "python",
   "name": "Python [Root]"
  },
  "language_info": {
   "codemirror_mode": {
    "name": "ipython",
    "version": 2
   },
   "file_extension": ".py",
   "mimetype": "text/x-python",
   "name": "python",
   "nbconvert_exporter": "python",
   "pygments_lexer": "ipython2",
   "version": "2.7.13"
  }
 },
 "nbformat": 4,
 "nbformat_minor": 2
}
