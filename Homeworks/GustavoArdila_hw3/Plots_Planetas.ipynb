{
 "cells": [
  {
   "cell_type": "code",
   "execution_count": 1,
   "metadata": {
    "collapsed": true
   },
   "outputs": [],
   "source": [
    "import numpy as np\n",
    "import matplotlib.pyplot as plt"
   ]
  },
  {
   "cell_type": "code",
   "execution_count": 2,
   "metadata": {
    "collapsed": true
   },
   "outputs": [],
   "source": [
    "#loads the data and creates a numpy array\n",
    "datos_x=np.loadtxt('datos_x.txt')\n",
    "datos_y=np.loadtxt('datos_y.txt')\n",
    "datos_z=np.loadtxt('datos_z.txt')\n",
    "planetas=10;\n",
    "n=1000"
   ]
  },
  {
   "cell_type": "code",
   "execution_count": 3,
   "metadata": {},
   "outputs": [],
   "source": [
    "#runs over the cols\n",
    "plt.figure(1)\n",
    "for i in range(0,planetas):\n",
    "    plt.scatter(datos_x[:,i],datos_y[:,i])\n",
    "plt.title('Orbitas')\n",
    "plt.savefig('orbitas.png')"
   ]
  }
 ],
 "metadata": {
  "kernelspec": {
   "display_name": "Python [Root]",
   "language": "python",
   "name": "Python [Root]"
  },
  "language_info": {
   "codemirror_mode": {
    "name": "ipython",
    "version": 2
   },
   "file_extension": ".py",
   "mimetype": "text/x-python",
   "name": "python",
   "nbconvert_exporter": "python",
   "pygments_lexer": "ipython2",
   "version": "2.7.13"
  }
 },
 "nbformat": 4,
 "nbformat_minor": 2
}
