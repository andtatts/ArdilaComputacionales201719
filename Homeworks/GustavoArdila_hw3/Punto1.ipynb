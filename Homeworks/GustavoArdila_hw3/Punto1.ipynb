{
 "cells": [
  {
   "cell_type": "code",
   "execution_count": 1,
   "metadata": {
    "collapsed": true
   },
   "outputs": [],
   "source": [
    "import numpy as np\n",
    "import matplotlib.pyplot as plt\n"
   ]
  },
  {
   "cell_type": "code",
   "execution_count": 2,
   "metadata": {
    "collapsed": true
   },
   "outputs": [],
   "source": [
    "n=300\n",
    "x=np.linspace(0,30,n)\n",
    "y=np.linspace(0,30,n)\n",
    "t=np.linspace(0,60,n)\n",
    "dx=x[1]-x[0]\n",
    "dy=y[1]-y[0]\n",
    "dt=1/n\n",
    "c=1.0\n",
    "a=c*dt/dx\n",
    "b=c*dt/dy"
   ]
  },
  {
   "cell_type": "code",
   "execution_count": 3,
   "metadata": {
    "collapsed": true
   },
   "outputs": [],
   "source": [
    "#creates the x part of the wave\n",
    "#ux_init=np.zeros(n)\n",
    "#set the initial conditions(perturbation)\n",
    "#ux_init[9]=-0.5\n",
    "#as a suggestion from Veronica, the boundary conditions are constants"
   ]
  },
  {
   "cell_type": "code",
   "execution_count": 4,
   "metadata": {
    "collapsed": true
   },
   "outputs": [],
   "source": [
    "#creates the y part of the wave\n",
    "#uy_init=np.zeros(n)\n",
    "#sets the initial conditions (perturbation)\n",
    "#uy_init[9]=-0.5"
   ]
  },
  {
   "cell_type": "code",
   "execution_count": 75,
   "metadata": {},
   "outputs": [],
   "source": [
    "#creates a matrix of zeros\n",
    "initial=np.zeros((n,n))\n",
    "#creates the mask(search for doc), used for simulating the slit\n",
    "mask=np.zeros((n,n))\n",
    "#sets the constant conditions for the walls, remember that the mask is a set of booleans\n",
    "mask[:,0]=1#upper wall\n",
    "mask[:,n-1]=1#lower wall\n",
    "mask[0,:n-1]=1#left hand wal\n",
    "mask[n-1,:n-1]=1#righ hand wall\n",
    "#using mask array creates the matrix of the propagating wave\n",
    "initial=np.ma.masked_array(initial,mask=mask)"
   ]
  },
  {
   "cell_type": "code",
   "execution_count": 79,
   "metadata": {},
   "outputs": [
    {
     "name": "stderr",
     "output_type": "stream",
     "text": [
      "/Users/gustavoardila/anaconda/lib/python2.7/site-packages/ipykernel/__main__.py:2: MaskedArrayFutureWarning: setting an item on a masked array which has a shared mask will not copy the mask and also change the original mask array in the future.\n",
      "Check the NumPy 1.11 release notes for more information.\n",
      "  from ipykernel import kernelapp as app\n"
     ]
    }
   ],
   "source": [
    "#sets the initial value in the given point\n",
    "initial[n/3][n/2]=-0.5\n",
    "#implementation of the solution is based on the notebook available in github\n",
    "#value of the slit can be considered as a fixed condition"
   ]
  },
  {
   "cell_type": "code",
   "execution_count": 77,
   "metadata": {
    "collapsed": true
   },
   "outputs": [],
   "source": [
    "#calculates for t=1\n",
    "future_1=np.zeros((n+1,n+1))\n",
    "next_x=np.roll(initial,+1,axis=0)\n",
    "next_y=np.roll(initial,+1,axis=1)\n",
    "down_x=np.roll(initial,-1,axis=0)\n",
    "down_y=np.roll(initial,-1,axis=1)\n",
    "future=(a**2/2)*(next_x+down_x)+(b**2/2)*(next_y+down_y)+initial*(1-b**2-a**2)\n",
    "past=np.copy(initial)\n",
    "present=np.copy(future)\n"
   ]
  },
  {
   "cell_type": "code",
   "execution_count": null,
   "metadata": {
    "collapsed": true
   },
   "outputs": [],
   "source": [
    "#knowing t=0 and t=1 we can continue the temporal loop\n"
   ]
  }
 ],
 "metadata": {
  "kernelspec": {
   "display_name": "Python [Root]",
   "language": "python",
   "name": "Python [Root]"
  },
  "language_info": {
   "codemirror_mode": {
    "name": "ipython",
    "version": 2
   },
   "file_extension": ".py",
   "mimetype": "text/x-python",
   "name": "python",
   "nbconvert_exporter": "python",
   "pygments_lexer": "ipython2",
   "version": "2.7.13"
  }
 },
 "nbformat": 4,
 "nbformat_minor": 2
}
