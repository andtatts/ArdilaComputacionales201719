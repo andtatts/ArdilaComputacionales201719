{
 "cells": [
  {
   "cell_type": "code",
   "execution_count": 1,
   "metadata": {
    "collapsed": true
   },
   "outputs": [],
   "source": [
    "import numpy as np\n",
    "import matplotlib.pyplot as plt"
   ]
  },
  {
   "cell_type": "code",
   "execution_count": 50,
   "metadata": {
    "collapsed": true
   },
   "outputs": [],
   "source": [
    "n=300\n",
    "x=np.linspace(0,30,n)\n",
    "y=np.linspace(0,30,n)\n",
    "t=np.linspace(0,60,n)\n",
    "dx=x[1]-x[0]\n",
    "dy=y[1]-y[0]\n",
    "c=2.0\n",
    "dt=0.5*dx/c\n",
    "a=c*dt/dx\n",
    "b=c*dt/dy"
   ]
  },
  {
   "cell_type": "code",
   "execution_count": 56,
   "metadata": {},
   "outputs": [
    {
     "name": "stdout",
     "output_type": "stream",
     "text": [
      "[[ 0.  0.  0. ...,  0.  0.  0.]\n",
      " [ 0.  1.  1. ...,  1.  1.  0.]\n",
      " [ 0.  1.  1. ...,  1.  1.  0.]\n",
      " ..., \n",
      " [ 0.  1.  1. ...,  1.  1.  0.]\n",
      " [ 0.  1.  1. ...,  1.  1.  0.]\n",
      " [ 0.  0.  0. ...,  0.  0.  0.]]\n"
     ]
    }
   ],
   "source": [
    "#creates a matrix of zeros\n",
    "initial=np.zeros((n,n))\n",
    "#sets the perturbation in the given point\n",
    "initial[n/3][n/2-1]=-0.5\n",
    "#creates the mask as a ones matrix\n",
    "mask=np.ones((n,n))\n",
    "#sets the conditions\n",
    "#left-hand side wall\n",
    "mask[:,0]=0\n",
    "#right-hand side wall\n",
    "mask[:,n-1]=0\n",
    "#upper wall\n",
    "mask[0,:]=0\n",
    "#lower wall\n",
    "mask[n-1,:n-1]=0\n",
    "#slit\n",
    "mask[-n/3][0:n/2-20]=0\n",
    "mask[-n/3][n/2+20:]=0\n",
    "#mask[-n/3][-n/2:n/2]=1\n",
    "#makes the product\n",
    "fotogramas=[]\n",
    "fotogramas.append(initial)\n",
    "print mask\n"
   ]
  },
  {
   "cell_type": "code",
   "execution_count": 57,
   "metadata": {},
   "outputs": [
    {
     "data": {
      "image/png": "[encoded data removed]",
      "text/plain": [
       "<matplotlib.figure.Figure at 0x11a2e7690>"
      ]
     },
     "metadata": {},
     "output_type": "display_data"
    }
   ],
   "source": [
    "plt.imshow(mask)\n",
    "plt.show()\n",
    "#implementation of the solution is based on the notebook available in github\n",
    "#value of the slit can be considered as a fixed condition"
   ]
  },
  {
   "cell_type": "code",
   "execution_count": 58,
   "metadata": {},
   "outputs": [
    {
     "data": {
      "image/png": "[encoded data removed]",
      "text/plain": [
       "<matplotlib.figure.Figure at 0x11aa6e650>"
      ]
     },
     "metadata": {},
     "output_type": "display_data"
    }
   ],
   "source": [
    "#calculates for t=1 using numpy roll\n",
    "#future_1=np.zeros((n+1,n+1))\n",
    "next_x=np.roll(initial,+1,axis=0)\n",
    "next_y=np.roll(initial,+1,axis=1)\n",
    "down_x=np.roll(initial,-1,axis=0)\n",
    "down_y=np.roll(initial,-1,axis=1)\n",
    "future=(a**2/2)*(next_x+down_x)+(b**2/2)*(next_y+down_y)+initial*(1-b**2-a**2)\n",
    "past=np.copy(initial)\n",
    "present=np.copy(future)\n",
    "#print present\n",
    "#multiplies by the mask\n",
    "present=present*mask\n",
    "#print present\n",
    "fotogramas.append(present)\n",
    "plt.imshow(present)\n",
    "plt.show()"
   ]
  },
  {
   "cell_type": "code",
   "execution_count": 64,
   "metadata": {},
   "outputs": [],
   "source": [
    "#knowing t=0 and t=1 we can continue the temporal loop\n",
    "#calculate the number of temporal iterations\n",
    "#m=60.0/dt\n",
    "\n",
    "for t in range(1196):\n",
    "    downx=np.roll(present,-1,axis=0)\n",
    "    upx=np.roll(present,+1,axis=0)  \n",
    "    downy=np.roll(present,-1,axis=1)\n",
    "    upy=np.roll(present,+1,axis=1)\n",
    "    future=(a**2/2)*(upx+downx)+(b**2/2)*(upy+downy)+present*(1-b**2-a**2)-past\n",
    "    past=np.copy(present)\n",
    "    present=np.copy(future)\n",
    "    present=present*mask\n",
    "    fotogramas.append(present)\n",
    "    \n",
    "    if t==598:\n",
    "        plt.figure(1)\n",
    "       \n",
    "        plt.imshow(present)\n",
    "        plt.tight_layout()\n",
    "        plt.savefig('Resultados_hw3_1.pdf')"
   ]
  },
  {
   "cell_type": "code",
   "execution_count": 63,
   "metadata": {},
   "outputs": [],
   "source": [
    "plt.imshow(present)\n",
    "plt.savefig('uno.png')"
   ]
  },
  {
   "cell_type": "code",
   "execution_count": null,
   "metadata": {
    "collapsed": true
   },
   "outputs": [],
   "source": []
  },
  {
   "cell_type": "code",
   "execution_count": null,
   "metadata": {
    "collapsed": true
   },
   "outputs": [],
   "source": []
  }
 ],
 "metadata": {
  "kernelspec": {
   "display_name": "Python [Root]",
   "language": "python",
   "name": "Python [Root]"
  },
  "language_info": {
   "codemirror_mode": {
    "name": "ipython",
    "version": 2
   },
   "file_extension": ".py",
   "mimetype": "text/x-python",
   "name": "python",
   "nbconvert_exporter": "python",
   "pygments_lexer": "ipython2",
   "version": "2.7.13"
  }
 },
 "nbformat": 4,
 "nbformat_minor": 2
}
