{
 "cells": [
  {
   "cell_type": "code",
   "execution_count": 1,
   "metadata": {
    "collapsed": true
   },
   "outputs": [],
   "source": [
    "import numpy as np\n",
    "import matplotlib.pyplot as plt"
   ]
  },
  {
   "cell_type": "code",
   "execution_count": 3,
   "metadata": {},
   "outputs": [],
   "source": [
    "n=300\n",
    "x=np.linspace(0,30,n)\n",
    "y=np.linspace(0,30,n)\n",
    "t=np.linspace(0,60,n)\n",
    "dx=x[1]-x[0]\n",
    "dy=y[1]-y[0]\n",
    "c=1.0\n",
    "dt=0.5*dx/c\n",
    "a=c*dt/dx\n",
    "b=c*dt/dy"
   ]
  },
  {
   "cell_type": "code",
   "execution_count": 3,
   "metadata": {
    "collapsed": true
   },
   "outputs": [],
   "source": [
    "#creates the x part of the wave\n",
    "#ux_init=np.zeros(n)\n",
    "#set the initial conditions(perturbation)\n",
    "#ux_init[9]=-0.5\n",
    "#as a suggestion from Veronica, the boundary conditions are constants"
   ]
  },
  {
   "cell_type": "code",
   "execution_count": 4,
   "metadata": {
    "collapsed": true
   },
   "outputs": [],
   "source": [
    "#creates the y part of the wave\n",
    "#uy_init=np.zeros(n)\n",
    "#sets the initial conditions (perturbation)\n",
    "#uy_init[9]=-0.5"
   ]
  },
  {
   "cell_type": "code",
   "execution_count": 36,
   "metadata": {},
   "outputs": [],
   "source": [
    "#creates a matrix of zeros\n",
    "initial_0=np.zeros((n,n))\n",
    "#sets the initial value in the given point\n",
    "initial_0[n/3][n/2]=-0.5\n",
    "#creates the mask(search for doc), used for simulating the slit\n",
    "mascara=np.zeros((n,n))\n",
    "#sets the constant conditions for the walls, remember that the mask is a set of booleans\n",
    "mascara[:,0]=1.0#upper wall\n",
    "mascara[:,n-1]=1.0#lower wall\n",
    "mascara[0,:n-1]=1.0#left hand wal\n",
    "mascara[n-1,:n-1]=1.0#righ hand wall\n",
    "mascara[-(n/3)][-n/3]=1\n",
    "#using mask array creates the matrix of the propagating wave\n",
    "initial=np.ma.masked_array(initial_0,mask=mascara)\n",
    "\n"
   ]
  },
  {
   "cell_type": "code",
   "execution_count": 37,
   "metadata": {},
   "outputs": [
    {
     "data": {
      "image/png": "[encoded data removed]",
      "text/plain": [
       "<matplotlib.figure.Figure at 0x11533f210>"
      ]
     },
     "metadata": {},
     "output_type": "display_data"
    }
   ],
   "source": [
    "plt.imshow(initial)\n",
    "plt.show()\n",
    "#implementation of the solution is based on the notebook available in github\n",
    "#value of the slit can be considered as a fixed condition"
   ]
  },
  {
   "cell_type": "code",
   "execution_count": 47,
   "metadata": {},
   "outputs": [
    {
     "name": "stdout",
     "output_type": "stream",
     "text": [
      "[-- -- -- -- -- -- -- -- -- -- -- -- -- -- -- -- -- -- -- -- -- -- -- -- --\n",
      " -- -- -- -- -- -- -- -- -- -- -- -- -- -- -- -- -- -- -- -- -- -- -- -- --\n",
      " -- -- -- -- -- -- -- -- -- -- -- -- -- -- -- -- -- -- -- -- -- -- -- -- --\n",
      " -- -- -- -- -- -- -- -- -- -- -- -- -- -- -- -- -- -- -- -- -- -- -- -- --\n",
      " -- -- -- -- -- -- -- -- -- -- -- -- -- -- -- -- -- -- -- -- -- -- -- -- --\n",
      " -- -- -- -- -- -- -- -- -- -- -- -- -- -- -- -- -- -- -- -- -- -- -- -- --\n",
      " -- -- -- -- -- -- -- -- -- -- -- -- -- -- -- -- -- -- -- -- -- -- -- -- --\n",
      " -- -- -- -- -- -- -- -- -- -- -- -- -- -- -- -- -- -- -- -- -- -- -- -- --\n",
      " -- -- -- -- -- -- -- -- -- -- -- -- -- -- -- -- -- -- -- -- -- -- -- -- --\n",
      " -- -- -- -- -- -- -- -- -- -- -- -- -- -- -- -- -- -- -- -- -- -- -- -- --\n",
      " -- -- -- -- -- -- -- -- -- -- -- -- -- -- -- -- -- -- -- -- -- -- -- -- --\n",
      " -- -- -- -- -- -- -- -- -- -- -- -- -- -- -- -- -- -- -- -- -- -- -- --]\n"
     ]
    }
   ],
   "source": [
    "\n",
    "\n"
   ]
  },
  {
   "cell_type": "code",
   "execution_count": 38,
   "metadata": {
    "collapsed": true
   },
   "outputs": [],
   "source": [
    "#calculates for t=1 using numpy roll\n",
    "future_1=np.zeros((n+1,n+1))\n",
    "next_x=np.roll(initial,+1,axis=0)\n",
    "next_y=np.roll(initial,+1,axis=1)\n",
    "down_x=np.roll(initial,-1,axis=0)\n",
    "down_y=np.roll(initial,-1,axis=1)\n",
    "future=(a**2/2)*(next_x+down_x)+(b**2/2)*(next_y+down_y)+initial*(1-b**2-a**2)\n",
    "past=np.copy(initial)\n",
    "present=np.copy(future)\n"
   ]
  },
  {
   "cell_type": "code",
   "execution_count": 39,
   "metadata": {},
   "outputs": [],
   "source": [
    "#knowing t=0 and t=1 we can continue the temporal loop\n",
    "#calculate the number of temporal iterations\n",
    "m=60.0/dt\n",
    "for t in range(1196):\n",
    "    downx=np.roll(present,-1,axis=0)\n",
    "    upx=np.roll(present,+1,axis=0)\n",
    "    downy=np.roll(present,-1,axis=1)\n",
    "    upy=np.roll(present,+1,axis=1)\n",
    "    future=(a**2/2)*(upx+downx)+(b**2/2)*(upy+downy)+present*(1-b**2-a**2)-past\n",
    "    past=np.copy(present)\n",
    "    present=np.copy(future)"
   ]
  },
  {
   "cell_type": "code",
   "execution_count": 40,
   "metadata": {},
   "outputs": [
    {
     "name": "stdout",
     "output_type": "stream",
     "text": [
      "[[-0.00097149 -0.00064055  0.00076754 ...,  0.00159959  0.00076754\n",
      "  -0.00064055]\n",
      " [ 0.00340254 -0.0004355  -0.00331574 ...,  0.00104745 -0.00331574\n",
      "  -0.0004355 ]\n",
      " [-0.00397574  0.00056008  0.00390057 ..., -0.00139484  0.00390057\n",
      "   0.00056008]\n",
      " ..., \n",
      " [-0.00414228 -0.0002834   0.00385241 ...,  0.00073861  0.00385241\n",
      "  -0.0002834 ]\n",
      " [ 0.00366806 -0.00094642 -0.00371426 ...,  0.00236452 -0.00371426\n",
      "  -0.00094642]\n",
      " [-0.0017656  -0.00192297  0.00139258 ...,  0.00479222  0.00139258\n",
      "  -0.00192297]]\n"
     ]
    }
   ],
   "source": [
    "print present"
   ]
  },
  {
   "cell_type": "code",
   "execution_count": null,
   "metadata": {
    "collapsed": true
   },
   "outputs": [],
   "source": []
  }
 ],
 "metadata": {
  "kernelspec": {
   "display_name": "Python [Root]",
   "language": "python",
   "name": "Python [Root]"
  },
  "language_info": {
   "codemirror_mode": {
    "name": "ipython",
    "version": 2
   },
   "file_extension": ".py",
   "mimetype": "text/x-python",
   "name": "python",
   "nbconvert_exporter": "python",
   "pygments_lexer": "ipython2",
   "version": "2.7.13"
  }
 },
 "nbformat": 4,
 "nbformat_minor": 2
}
