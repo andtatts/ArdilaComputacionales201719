{
 "cells": [
  {
   "cell_type": "code",
   "execution_count": 17,
   "metadata": {
    "collapsed": true
   },
   "outputs": [],
   "source": [
    "import numpy as np\n",
    "import matplotlib.pyplot as plt"
   ]
  },
  {
   "cell_type": "code",
   "execution_count": 22,
   "metadata": {},
   "outputs": [
    {
     "name": "stdout",
     "output_type": "stream",
     "text": [
      "[  1.89000000e+02   9.20000000e+01   3.72000000e+05]\n"
     ]
    }
   ],
   "source": [
    "mapamundi=np.genfromtxt(\"map_data.txt\")\n",
    "data=np.loadtxt('coordinates.txt')\n",
    "coordx=data[0]\n",
    "coordy=data[1]\n",
    "radio=data[2]\n",
    "#mapamundi=np.loadtxt('map_data.txt')\n",
    "xy=(coordx,coordy)\n",
    "print data"
   ]
  },
  {
   "cell_type": "code",
   "execution_count": 23,
   "metadata": {},
   "outputs": [],
   "source": [
    "plt.figure(1)\n",
    "plt.imshow(mapamundi)\n",
    "plt.scatter(coordx,coordy)\n",
    "plt.Circle(xy, radius=radio)\n",
    "plt.savefig('PuntoNemo.pdf')"
   ]
  },
  {
   "cell_type": "code",
   "execution_count": null,
   "metadata": {
    "collapsed": true
   },
   "outputs": [],
   "source": []
  }
 ],
 "metadata": {
  "kernelspec": {
   "display_name": "Python [Root]",
   "language": "python",
   "name": "Python [Root]"
  },
  "language_info": {
   "codemirror_mode": {
    "name": "ipython",
    "version": 2
   },
   "file_extension": ".py",
   "mimetype": "text/x-python",
   "name": "python",
   "nbconvert_exporter": "python",
   "pygments_lexer": "ipython2",
   "version": "2.7.13"
  }
 },
 "nbformat": 4,
 "nbformat_minor": 2
}
